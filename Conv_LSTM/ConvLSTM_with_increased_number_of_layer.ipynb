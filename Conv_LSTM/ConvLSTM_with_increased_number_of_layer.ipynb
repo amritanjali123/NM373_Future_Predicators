{
  "nbformat": 4,
  "nbformat_minor": 0,
  "metadata": {
    "kernelspec": {
      "name": "python3",
      "display_name": "Python 3"
    },
    "colab": {
      "name": "SIH_cloud.ipynb",
      "provenance": [],
      "private_outputs": true,
      "collapsed_sections": [],
      "toc_visible": true
    },
    "accelerator": "TPU"
  },
  "cells": [
    {
      "cell_type": "code",
      "metadata": {
        "id": "bWoSXAhcp-lp",
        "colab_type": "code",
        "colab": {}
      },
      "source": [
        "import tensorflow as tf\n",
        "from tensorflow import keras\n",
        "from tensorflow.keras import backend as K\n",
        "from tensorflow.keras.models import model_from_json\n",
        "import cv2\n",
        "from tensorflow.keras.models import Sequential\n",
        "from tensorflow.keras.callbacks import Callback\n",
        "from tensorflow.keras.layers import Conv2D, MaxPooling2D, Dropout, Dense, Flatten, UpSampling2D,BatchNormalization\n",
        "import random\n",
        "import glob\n",
        "import subprocess\n",
        "import os\n",
        "from PIL import Image\n",
        "import numpy as np\n",
        "import matplotlib.pyplot as plt\n",
        "from matplotlib.pyplot import imshow, figure"
      ],
      "execution_count": null,
      "outputs": []
    },
    {
      "cell_type": "code",
      "metadata": {
        "id": "3Wz_4zz9byJL",
        "colab_type": "code",
        "colab": {}
      },
      "source": [
        "#we are using colab thats why mounted drive please dont run this cell if you directly take data from system\n",
        "from google.colab import drive\n",
        "drive.mount('/content/drive')"
      ],
      "execution_count": null,
      "outputs": []
    },
    {
      "cell_type": "markdown",
      "metadata": {
        "id": "RBUG8d1AG-lG",
        "colab_type": "text"
      },
      "source": [
        "we are using colab thats why given this location after mounting drive please provide the folder as per your system.\n",
        " we have taken image in batch in this manner like we have provided 45 image from tir by ISRO so I have taken 1 t0 10 image in a batch 1st and 2 to 11 image\n",
        " to batch 2nd and so on "
      ]
    },
    {
      "cell_type": "code",
      "metadata": {
        "id": "QiC7sgArp-lt",
        "colab_type": "code",
        "colab": {}
      },
      "source": [
        "#initialize wandb and download dataset\n",
        "\n",
        "num_epochs= 10  \n",
        "batch_size= 1\n",
        "height=984           #image height\n",
        "width=1074           #image width \n",
        "n_frames=9           #number of frames \n",
        "\n",
        "\n",
        "##########\n",
        "#we are using colab thats why given this location after mounting drive please provide the folder as per your system\n",
        "# we have taken image in batch in this manner like we have provided 45 image from tir by ISRO so I have taken 1 t0 10 image ina batch 1 and 2 to 11 image\n",
        "# to batch 2nd\n",
        "val_dir='/content/drive/My Drive/catz/ISRO/val_10val'\n",
        "train_dir='/content/drive/My Drive/catz/ISRO/train_10test'\n",
        "\n",
        "\n",
        "###########     testing path\n",
        "#val_dir='/content/drive/My Drive/catz/website_data/23'\n",
        "############\n"
      ],
      "execution_count": null,
      "outputs": []
    },
    {
      "cell_type": "markdown",
      "metadata": {
        "id": "Z2U8NrP-HWXl",
        "colab_type": "text"
      },
      "source": [
        "This function is used for generating 9 images in a sequence and\n",
        " 1 image for as a output(used for comparing with predicted image)\n",
        " and image is already normelize by 255 during data preprocessing and saved in drive link https://drive.google.com/drive/folders/1Y3gkbZvY4PGr1RqqSq8-SUXcLoGViuWx?usp=sharing"
      ]
    },
    {
      "cell_type": "code",
      "metadata": {
        "id": "vQP58DW2JaBr",
        "colab_type": "code",
        "colab": {}
      },
      "source": [
        "# generator to loop over train and test images\n",
        "'''\n",
        "This function is used for generating 9 images in a sequence and\n",
        " 1 image for as a output(used for comparing with predicted image)\n",
        " and image is already normelize by 255 during data preprocessing and saved in drive link\n",
        "'''\n",
        "def my_generator3(batch_size, img_dir):\n",
        "    \"\"\"A generator that returns 9 images plus a result image\"\"\"\n",
        "    cat_dirs = glob.glob(img_dir + \"/*\")\n",
        "    counter = 0\n",
        "    while True:\n",
        "        input_images = np.zeros(\n",
        "            (batch_size,height, width,9*1))\n",
        "        output_images = np.zeros((batch_size,height, width,1))\n",
        "        random.shuffle(cat_dirs)\n",
        "        if (counter+batch_size >= len(cat_dirs)):\n",
        "            counter = 0\n",
        "        for i in range(batch_size):\n",
        "            input_imgs = glob.glob(cat_dirs[counter+i] + \"/[0-9]*\")\n",
        "            imgs=[cv2.imread(img,-1).astype(np.float32) for img in sorted(input_imgs)]\n",
        "            imgs1=[np.reshape(im,(height,width,1)) for im in imgs]\n",
        "          \n",
        "            input_images[i]=np.concatenate((imgs1),axis=2)\n",
        "            output_images[i] =np.reshape((cv2.imread((cat_dirs[counter+i]+\"/result.tif\"),-1).astype(np.float32)),(height,width,1))            \n",
        "            #input_images[i] /= 255.\n",
        "            #output_images[i] /= 255.            \n",
        "            #input_images[i] /= 4.   #image normalization\n",
        "            #output_images[i] /= 4.\n",
        "        yield (input_images, output_images)\n",
        "        counter =counter+batch_size\n",
        "        \n",
        "steps_per_epoch = len(glob.glob(train_dir + \"/*\")) // batch_size\n",
        "validation_steps = len(glob.glob(val_dir + \"/*\")) // batch_size"
      ],
      "execution_count": null,
      "outputs": []
    },
    {
      "cell_type": "code",
      "metadata": {
        "id": "HuWcuZdcp-lx",
        "colab_type": "code",
        "colab": {}
      },
      "source": [
        "#callback to log the images\n",
        "\n",
        "class ImageCallback(Callback):\n",
        "    def on_epoch_end(self, epoch, logs):\n",
        "        validation_X, validation_y = next(\n",
        "            my_generator3(batch_size, val_dir))\n",
        "        output = self.model.predict(validation_X)\n",
        "        \"\"\"wandb.log({\n",
        "            \"input\": [wandb.Image(np.concatenate(np.split(c, 5, axis=2), axis=1)) for c in validation_X],\n",
        "            \"output\": [wandb.Image(np.concatenate([validation_y[i], o], axis=1)) for i, o in enumerate(output)]\n",
        "        }, commit=False)\"\"\""
      ],
      "execution_count": null,
      "outputs": []
    },
    {
      "cell_type": "code",
      "metadata": {
        "tags": [],
        "id": "ezqALT-Vp-ly",
        "colab_type": "code",
        "colab": {}
      },
      "source": [
        "# Test the generator\n",
        "test_img='/content/drive/My Drive/catz/ISRO/test_10test'\n",
        "gen = my_generator3(1, test_img)\n",
        "videos, next_frame = next(gen)\n",
        "print(videos[0].shape)\n",
        "print(next_frame[0].shape)"
      ],
      "execution_count": null,
      "outputs": []
    },
    {
      "cell_type": "code",
      "metadata": {
        "id": "3FPhYvlgp-l0",
        "colab_type": "code",
        "colab": {}
      },
      "source": [
        "#Showing all the images for test\n",
        "figure()\n",
        "imshow(videos[0][:,:,0],cmap='gray')\n",
        "figure()\n",
        "imshow(videos[0][:,:,1],cmap='gray')\n",
        "figure()\n",
        "imshow(videos[0][:,:,2],cmap='gray')\n",
        "figure()\n",
        "imshow(videos[0][:,:,3],cmap='gray')\n",
        "figure()\n",
        "imshow(videos[0][:,:,4],cmap='gray')\n",
        "figure()\n",
        "imshow(videos[0][:,:,5],cmap='gray')\n",
        "figure()\n",
        "imshow(videos[0][:,:,6],cmap='gray')\n",
        "figure()\n",
        "imshow(videos[0][:,:,7],cmap='gray')\n",
        "figure()\n",
        "imshow(videos[0][:,:,8],cmap='gray')\n",
        "figure()\n",
        "imshow(next_frame[0][:,:,0],cmap='gray')\n",
        "# #"
      ],
      "execution_count": null,
      "outputs": []
    },
    {
      "cell_type": "code",
      "metadata": {
        "id": "X8-MUUe_IaxN",
        "colab_type": "code",
        "colab": {}
      },
      "source": [
        ""
      ],
      "execution_count": null,
      "outputs": []
    },
    {
      "cell_type": "markdown",
      "metadata": {
        "id": "pjUc_9gGIczc",
        "colab_type": "text"
      },
      "source": [
        "#Modal by 50 epoch we have saved model "
      ]
    },
    {
      "cell_type": "code",
      "metadata": {
        "id": "F0EFS7pOp-mI",
        "colab_type": "code",
        "colab": {}
      },
      "source": [
        "# Conv2DLSTM with Gaussian Noise\n",
        "\n",
        "from tensorflow.keras.layers import Lambda, Reshape, Permute, Input, add, Conv3D, GaussianNoise, ConvLSTM2D\n",
        "from tensorflow.keras.models import Model\n",
        "from tensorflow.keras.regularizers import l1,l2\n",
        "def slice(x):\n",
        "    return x[:,:,:,:, -1]\n",
        "\n",
        "\n",
        "\n",
        "inp = Input((height, width, n_frames * 1))\n",
        "reshaped = Reshape((height,width,n_frames,1))(inp)\n",
        "permuted = Permute((1,2,4,3))(reshaped)\n",
        "noise = GaussianNoise(0.1)(permuted)\n",
        "last_layer = Lambda(slice, input_shape=(width,height,next_frame,1), output_shape=(width,height,1))(noise)\n",
        "permuted_2 = Permute((4,1,2,3))(noise)\n",
        "\n",
        "conv_lstm_output_1 = ConvLSTM2D(16, (3,3), padding='same',activity_regularizer=l2(0.0001),return_sequences=True)(permuted_2)\n",
        "conv_lstm_output_1=(BatchNormalization())(conv_lstm_output_1)\n",
        "conv_lstm_output_1=Dropout(.2)(conv_lstm_output_1)\n",
        "\n",
        "\n",
        "conv_lstm_output_1 = ConvLSTM2D(32, (3,3), padding='same',activity_regularizer=l2(0.0001),return_sequences=True)(conv_lstm_output_1)\n",
        "conv_lstm_output_1=(BatchNormalization())(conv_lstm_output_1)\n",
        "conv_lstm_output_1=Dropout(.2)(conv_lstm_output_1)\n",
        "\n",
        "conv_lstm_output_1 = ConvLSTM2D(64, (3,3), padding='same',activity_regularizer=l2(0.00001),dilation_rate=2)(conv_lstm_output_1)\n",
        "conv_lstm_output_1=(BatchNormalization())(conv_lstm_output_1)\n",
        "conv_lstm_output_1=Dropout(.2)(conv_lstm_output_1)\n",
        "\n",
        "\n",
        "conv_lstm_output_1 = Conv2D(3, (3,3), padding=\"same\",activity_regularizer=l2(0.00001))(conv_lstm_output_1)\n",
        "conv_output = Conv2D(1, (3,3), padding=\"same\")(conv_lstm_output_1)\n",
        "combined = add([last_layer, conv_output])\n",
        "model=Model(inputs=[inp], outputs=[combined])\n"
      ],
      "execution_count": null,
      "outputs": []
    },
    {
      "cell_type": "code",
      "metadata": {
        "id": "1xvoiXBEJItq",
        "colab_type": "code",
        "colab": {}
      },
      "source": [
        ""
      ],
      "execution_count": null,
      "outputs": []
    },
    {
      "cell_type": "code",
      "metadata": {
        "id": "QEF6aEQSzXp6",
        "colab_type": "code",
        "colab": {}
      },
      "source": [
        "model.summary()"
      ],
      "execution_count": null,
      "outputs": []
    },
    {
      "cell_type": "code",
      "metadata": {
        "id": "SivjV4ZjhKsW",
        "colab_type": "code",
        "colab": {}
      },
      "source": [
        "model.compile(optimizer='adam', loss='mse')"
      ],
      "execution_count": null,
      "outputs": []
    },
    {
      "cell_type": "code",
      "metadata": {
        "id": "EiYCQbgMIVyG",
        "colab_type": "code",
        "colab": {}
      },
      "source": [
        ""
      ],
      "execution_count": null,
      "outputs": []
    },
    {
      "cell_type": "code",
      "metadata": {
        "id": "w8cofc87ZKGp",
        "colab_type": "code",
        "colab": {}
      },
      "source": [
        "model.fit_generator(my_generator3(batch_size*4, train_dir),\n",
        "                    steps_per_epoch=steps_per_epoch//4,\n",
        "                    epochs=num_epochs*5, callbacks=[  \n",
        "    ImageCallback()],\n",
        "    validation_steps=validation_steps//4,\n",
        "    validation_data=my_generator3(batch_size*2, val_dir))"
      ],
      "execution_count": null,
      "outputs": []
    },
    {
      "cell_type": "code",
      "metadata": {
        "id": "s9Pv3wqs142q",
        "colab_type": "code",
        "colab": {}
      },
      "source": [
        "#save model in drive\n",
        "json_file=model.to_json()\n",
        "#path=\n",
        "with open(\"model_by50epoc\",\"w\") as file:\n",
        "  file.write(json_file)\n",
        "#weight to HDF5\n",
        "model.save_weights(\"model_by50epoc.h5\") \n"
      ],
      "execution_count": null,
      "outputs": []
    },
    {
      "cell_type": "code",
      "metadata": {
        "id": "PRsg9flH140_",
        "colab_type": "code",
        "colab": {}
      },
      "source": [
        "#predicting next frame from previous 9 frames\n",
        "result=model.predict(videos)"
      ],
      "execution_count": null,
      "outputs": []
    },
    {
      "cell_type": "code",
      "metadata": {
        "id": "yDE7tLTfIj_z",
        "colab_type": "code",
        "colab": {}
      },
      "source": [
        "# showing predicted image\n",
        "figure()\n",
        "imshow(result[0][:,:,0],cmap='gray')\n",
        "#actual image\n",
        "figure()\n",
        "y_true=next_frame[0][:,:,0]\n",
        "imshow(y_true,cmap='gray')"
      ],
      "execution_count": null,
      "outputs": []
    },
    {
      "cell_type": "code",
      "metadata": {
        "id": "bFknozjRI7fI",
        "colab_type": "code",
        "colab": {}
      },
      "source": [
        "y_true=next_frame[0][:,:,0]*255\n",
        "y_true1=videos[0][:,:,8]*255\n",
        "\n",
        "y_pred=(result[0][:,:,0])*255\n",
        "print(y_true.shape,y_pred.shape)\n",
        "\n",
        "\n",
        "#loss=np.mean(np.square(y_true,y_pred),axis=1)\n",
        "mse=np.mean(((y_true)-(y_pred))**2)\n",
        "mse1=np.mean(((y_true1)-(y_pred))**2)\n",
        "rmse=np.sqrt(np.mean((y_true-y_pred)**2))\n",
        "rmse1=np.sqrt(np.mean((y_true1-y_pred)**2))\n",
        "print(\"rmse,mse with actual frame\",rmse,mse)\n",
        "print(\"\\nrmse1,mse1 with previous frame\",rmse1,mse1)"
      ],
      "execution_count": null,
      "outputs": []
    },
    {
      "cell_type": "markdown",
      "metadata": {
        "id": "MDEmpvw6IlIK",
        "colab_type": "text"
      },
      "source": [
        "#Modal by 100 epoch"
      ]
    },
    {
      "cell_type": "code",
      "metadata": {
        "id": "P0TSGOlEIppi",
        "colab_type": "code",
        "colab": {}
      },
      "source": [
        "# Conv2DLSTM with Gaussian Noise\n",
        "\n",
        "from tensorflow.keras.layers import Lambda, Reshape, Permute, Input, add, Conv3D, GaussianNoise, ConvLSTM2D\n",
        "from tensorflow.keras.models import Model\n",
        "from tensorflow.keras.regularizers import l1,l2\n",
        "def slice(x):\n",
        "    return x[:,:,:,:, -1]\n",
        "\n",
        "\n",
        "\n",
        "inp = Input((height, width, n_frames * 1))\n",
        "reshaped = Reshape((height,width,n_frames,1))(inp)\n",
        "permuted = Permute((1,2,4,3))(reshaped)\n",
        "noise = GaussianNoise(0.1)(permuted)\n",
        "last_layer = Lambda(slice, input_shape=(width,height,next_frame,1), output_shape=(width,height,1))(noise)\n",
        "permuted_2 = Permute((4,1,2,3))(noise)\n",
        "\n",
        "conv_lstm_output_1 = ConvLSTM2D(16, (3,3), padding='same',activity_regularizer=l2(0.0001),return_sequences=True)(permuted_2)\n",
        "conv_lstm_output_1=(BatchNormalization())(conv_lstm_output_1)\n",
        "conv_lstm_output_1=Dropout(.2)(conv_lstm_output_1)\n",
        "\n",
        "\n",
        "conv_lstm_output_1 = ConvLSTM2D(32, (3,3), padding='same',activity_regularizer=l2(0.0001),return_sequences=True)(conv_lstm_output_1)\n",
        "conv_lstm_output_1=(BatchNormalization())(conv_lstm_output_1)\n",
        "conv_lstm_output_1=Dropout(.2)(conv_lstm_output_1)\n",
        "\n",
        "conv_lstm_output_1 = ConvLSTM2D(64, (3,3), padding='same',activity_regularizer=l2(0.00001),dilation_rate=2)(conv_lstm_output_1)\n",
        "conv_lstm_output_1=(BatchNormalization())(conv_lstm_output_1)\n",
        "conv_lstm_output_1=Dropout(.2)(conv_lstm_output_1)\n",
        "\n",
        "\n",
        "conv_lstm_output_1 = Conv2D(3, (3,3), padding=\"same\",activity_regularizer=l2(0.00001))(conv_lstm_output_1)\n",
        "conv_output = Conv2D(1, (3,3), padding=\"same\")(conv_lstm_output_1)\n",
        "combined = add([last_layer, conv_output])\n",
        "model=Model(inputs=[inp], outputs=[combined])\n"
      ],
      "execution_count": null,
      "outputs": []
    },
    {
      "cell_type": "code",
      "metadata": {
        "id": "rOZWRv3HIp6E",
        "colab_type": "code",
        "colab": {}
      },
      "source": [
        "model.compile(optimizer='adam', loss='mse')"
      ],
      "execution_count": null,
      "outputs": []
    },
    {
      "cell_type": "code",
      "metadata": {
        "id": "ci1aay4wJVlG",
        "colab_type": "code",
        "colab": {}
      },
      "source": [
        ""
      ],
      "execution_count": null,
      "outputs": []
    },
    {
      "cell_type": "code",
      "metadata": {
        "id": "gXAfCXh9IpOU",
        "colab_type": "code",
        "colab": {}
      },
      "source": [
        "model.fit_generator(my_generator3(batch_size*2, train_dir),\n",
        "                    steps_per_epoch=steps_per_epoch//4,\n",
        "                    epochs=num_epochs*10, callbacks=[  \n",
        "    ImageCallback()],\n",
        "    validation_steps=validation_steps//4,\n",
        "    validation_data=my_generator3(batch_size*2, val_dir))"
      ],
      "execution_count": null,
      "outputs": []
    },
    {
      "cell_type": "code",
      "metadata": {
        "id": "ml8-_bkiJW_X",
        "colab_type": "code",
        "colab": {}
      },
      "source": [
        "#save model in drive\n",
        "json_file=model.to_json()\n",
        "#path=\n",
        "with open(\"model_by100epoc\",\"w\") as file:\n",
        "  file.write(json_file)\n",
        "#weight to HDF5\n",
        "model.save_weights(\"model_by100epoc.h5\") \n"
      ],
      "execution_count": null,
      "outputs": []
    },
    {
      "cell_type": "code",
      "metadata": {
        "id": "HzCP9SEIlNc1",
        "colab_type": "code",
        "colab": {}
      },
      "source": [
        "file=open(\"model_by50epoc\",'r')\n",
        "model_json=file.read()\n",
        "file.close()\n",
        "\n",
        "model=model_from_json(model_json)\n",
        "\n",
        "# #load weights\n",
        "model.load_weights(\"model_by50epoc.h5\")"
      ],
      "execution_count": null,
      "outputs": []
    },
    {
      "cell_type": "code",
      "metadata": {
        "id": "DmXdSaadwBhw",
        "colab_type": "code",
        "colab": {}
      },
      "source": [
        "#predicting next frame from previous 9 frames\n",
        "result=model.predict(videos)"
      ],
      "execution_count": null,
      "outputs": []
    },
    {
      "cell_type": "code",
      "metadata": {
        "id": "AWs3pUYDhpYo",
        "colab_type": "code",
        "colab": {}
      },
      "source": [
        "# showing predicted image\n",
        "figure()\n",
        "imshow(result[0][:,:,0],cmap='gray')\n",
        "#actual image\n",
        "figure()\n",
        "y_true=next_frame[0][:,:,0]\n",
        "imshow(y_true,cmap='gray')"
      ],
      "execution_count": null,
      "outputs": []
    },
    {
      "cell_type": "code",
      "metadata": {
        "id": "XEnZLtVCbElq",
        "colab_type": "code",
        "colab": {}
      },
      "source": [
        "y_true=next_frame[0][:,:,0]*255\n",
        "y_true1=videos[0][:,:,8]*255\n",
        "\n",
        "y_pred=(result[0][:,:,0])*255\n",
        "print(y_true.shape,y_pred.shape)\n",
        "\n",
        "\n",
        "#loss=np.mean(np.square(y_true,y_pred),axis=1)\n",
        "mse=np.mean(((y_true)-(y_pred))**2)\n",
        "mse1=np.mean(((y_true1)-(y_pred))**2)\n",
        "rmse=np.sqrt(np.mean((y_true-y_pred)**2))\n",
        "rmse1=np.sqrt(np.mean((y_true1-y_pred)**2))\n",
        "print(\"rmse,mse with actual frame\",rmse,mse)\n",
        "print(\"\\nrmse1,mse1 with previous frame\",rmse1,mse1)"
      ],
      "execution_count": null,
      "outputs": []
    },
    {
      "cell_type": "code",
      "metadata": {
        "id": "7x6p9TbIbEkZ",
        "colab_type": "code",
        "colab": {}
      },
      "source": [
        ""
      ],
      "execution_count": null,
      "outputs": []
    },
    {
      "cell_type": "code",
      "metadata": {
        "id": "cl0yYyBu-B_i",
        "colab_type": "code",
        "colab": {}
      },
      "source": [
        "y_true=next_frame[0][:,:,0]\n",
        "y_true1=videos[0][:,:,8]\n",
        "\n",
        "y_pred=(result[0][:,:,0])\n",
        "print(y_true.shape,y_pred.shape)\n",
        "\n",
        "\n",
        "mse=np.mean(((y_true)-(y_pred))**2)\n",
        "mse1=np.mean(((y_true1)-(y_pred))**2)\n",
        "rmse=np.sqrt(np.mean((y_true-y_pred)**2))\n",
        "rmse1=np.sqrt(np.mean((y_true1-y_pred)**2))\n",
        "print(\"rmse,mse with actual frame\",rmse,mse)\n",
        "print(\"\\nrmse1,mse1 with previous frame\",rmse1,mse1)"
      ],
      "execution_count": null,
      "outputs": []
    },
    {
      "cell_type": "code",
      "metadata": {
        "id": "9QEHgluMuLWa",
        "colab_type": "code",
        "colab": {}
      },
      "source": [
        "save_dir='/content/drive/My Drive/catz/ISRO'\n",
        "print(save_dir)\n",
        "cv2.imwrite(os.path.join(save_dir,'pred1.tif'),result[0][:,:,0])"
      ],
      "execution_count": null,
      "outputs": []
    },
    {
      "cell_type": "code",
      "metadata": {
        "id": "dMspuFBcR0q9",
        "colab_type": "code",
        "colab": {}
      },
      "source": [
        "im=Image.open(\"/content/drive/My Drive/catz/ISRO/pred1.tif\")\n",
        "im=np.array(im)\n",
        "imshow(im,cmap='gray')"
      ],
      "execution_count": null,
      "outputs": []
    }
  ]
}
